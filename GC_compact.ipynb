{
 "cells": [
  {
   "cell_type": "code",
   "execution_count": 1,
   "metadata": {},
   "outputs": [
    {
     "name": "stdin",
     "output_type": "stream",
     "text": [
      "Nombre: Elias\n",
      "Primer apellido: Lopez\n",
      "Segundo apellido: Barrero\n"
     ]
    },
    {
     "name": "stdout",
     "output_type": "stream",
     "text": [
      "1 expediente(s) con el nombre completo: LOPEZ BARRERO , Elias\n",
      "1 expediente(s) con nombre + primer apellido + segundo apellido: Elias LOPEZ BARRERO\n",
      "17 expediente(s) con nombre + primer apellido: Elias LOPEZ XXXXXX\n",
      "1 expediente(s) con nombre + segundo apellido: Elias XXXXXX BARRERO\n",
      "2 expediente(s) con los mismos apellidos: XXXXXX LOPEZ BARRERO\n"
     ]
    },
    {
     "name": "stderr",
     "output_type": "stream",
     "text": [
      "/home/jupyterlab/conda/envs/python/lib/python3.6/site-packages/ipykernel_launcher.py:31: UserWarning: Boolean Series key will be reindexed to match DataFrame index.\n",
      "/home/jupyterlab/conda/envs/python/lib/python3.6/site-packages/ipykernel_launcher.py:34: UserWarning: Boolean Series key will be reindexed to match DataFrame index.\n",
      "/home/jupyterlab/conda/envs/python/lib/python3.6/site-packages/ipykernel_launcher.py:37: UserWarning: Boolean Series key will be reindexed to match DataFrame index.\n",
      "/home/jupyterlab/conda/envs/python/lib/python3.6/site-packages/ipykernel_launcher.py:40: UserWarning: Boolean Series key will be reindexed to match DataFrame index.\n"
     ]
    },
    {
     "name": "stdout",
     "output_type": "stream",
     "text": [
      "Sumario 861 Legajo 7619   \n",
      "99021         DEL CAMPO VALMORISMO, Virgilio\n",
      "207425    JIMENEZ SANCHEZ, Antonio Florencio\n",
      "219129                  LOPEZ BARRERO, Elias\n",
      "226237                LOPEZ RODRIGUEZ, Reyes\n",
      "371612               SANCHEZ BELMONTE, Pedro\n",
      "375309               SANCHEZ HERRERA, Gabino\n",
      "375517            SANCHEZ JIMENEZ, Alejandro\n",
      "375560                 SANCHEZ JIMENEZ, Galo\n",
      "378584             SANCHEZ RAMIRO, Anastasio\n",
      "402699                 TIZON SIERRA, Candido\n",
      "Name: Nombre completo, dtype: object\n"
     ]
    }
   ],
   "source": [
    "#Importar paquetes pandas y numpy\n",
    "import pandas as pd\n",
    "import numpy as np\n",
    "#importar informacion del Archivo General e Historico de Defensa.\n",
    "url = 'https://patrimoniocultural.defensa.gob.es/sites/default/files/2020-09/CAUSAS_JUDICIALES_TMT1_24SEP20_3.csv'\n",
    "data = pd.read_csv(url, delimiter=';',encoding = \"ISO-8859-1\", engine='python')\n",
    "\n",
    "#Convertir NaN en 0\n",
    "data[['Sumario','Año','Legajo','Caja','Orden']]=data[['Sumario','Año','Legajo','Caja','Orden']].fillna(0)\n",
    "#Convertir numeros a integer (sin decimales)\n",
    "data[['Sumario','Año','Legajo','Caja','Orden']]=data[['Sumario','Año','Legajo','Caja','Orden']].astype(int)\n",
    "#Crear codigo para comparacion de causas, sumando todos los identificadores como linea de caracteres.\n",
    "data['ID']=data['Sumario'].astype(str)+data['Año'].astype(str)+data['Legajo'].astype(str)+data['Caja'].astype(str)+data['Orden'].astype(str)\n",
    "\n",
    "#Introducir Nombre y Apellidos de la persona a buscar\n",
    "nombre=input('Nombre:')\n",
    "apellido1=input('Primer apellido:').upper()\n",
    "apellido2=input('Segundo apellido:').upper()\n",
    "#Combinar nombre y apellidos con el mismo formato que el CSV. APELLIDO1 APELLIDO2, Nombre.\n",
    "ncomp=apellido1+' '+apellido2+', '+nombre\n",
    "#Crear masks para filtrar los resultados. Mask1: mismo nombre, Mask2: mismo primer apellido, Mask3: mismo segundo apellido, Mask4: mismo nombre completo.\n",
    "mask1=data['Nombre']==nombre\n",
    "mask2=data['Primer apellido']==apellido1\n",
    "mask3=data['Segundo apellido']==apellido2\n",
    "mask4=data['Nombre completo']==ncomp\n",
    "#Almacenar resultados de los filtros de interes en variables.\n",
    "#Nombre completo: APELLIDO1 APELLIDO2, Nombre.\n",
    "res_ncomp=data[mask4]\n",
    "print(res_ncomp.shape[0],'expediente(s) con el nombre completo:', apellido1, apellido2,',',nombre)\n",
    "#Nombre completo: Nombre, Apellido1 y Apellido2 son iguales a las 3 columnas.\n",
    "res_na1a2=data[mask1][mask2][mask3]\n",
    "print(res_na1a2.shape[0], 'expediente(s) con nombre + primer apellido + segundo apellido:', nombre, apellido1, apellido2)\n",
    "#Nombre y primer apellido\n",
    "res_na1=data[mask1][mask2]\n",
    "print(res_na1.shape[0], 'expediente(s) con nombre + primer apellido:', nombre, apellido1,'XXXXXX')\n",
    "#Nombre y segundo apellido\n",
    "res_na2=data[mask1][mask3]\n",
    "print(res_na2.shape[0], 'expediente(s) con nombre + segundo apellido:', nombre, 'XXXXXX', apellido2)\n",
    "#Apellidos\n",
    "res_a1a2=data[mask2][mask3]\n",
    "print(res_a1a2.shape[0], 'expediente(s) con los mismos apellidos:', 'XXXXXX', apellido1, apellido2)\n",
    "\n",
    "#Extraer el identificador de cada expediente de las personas con los nombres y apellidos indicados.\n",
    "i=0\n",
    "temp=pd.DataFrame(data=None)\n",
    "juicios1=pd.DataFrame(data=None)\n",
    "while i<res_ncomp.shape[0]:\n",
    "    temp=data[data['ID']==res_ncomp['ID'].iloc[i]]\n",
    "    juicios1=juicios1.append(temp)\n",
    "    #print(data[data['ID']==temp]['Nombre completo'])\n",
    "    i=i+1\n",
    "\n",
    "#Imprimir cada sumario, legajo, caja, orden y año, y todas las personas juzgadas en dichos procedimientos.   \n",
    "valores=np.unique(juicios1['ID'])\n",
    "for id in valores:\n",
    "    sumario=data[data['ID']==id]['Sumario'].values[0]\n",
    "    legajo=data[data['ID']==id]['Legajo'].values[0]\n",
    "    caja=data[data['ID']==id]['Caja'].values[0]\n",
    "    orden=data[data['ID']==id]['Orden'].values[0]\n",
    "    ano=data[data['ID']==id]['Año'].values[0]\n",
    "    print('Sumario %s' %sumario if sumario!=0 else '','Legajo %s' %legajo if legajo!=0 else '', 'Caja %s' %caja if caja!=0 else '','Orden %s' %orden if orden!=0 else '','Año %s' %ano if ano!=0 else '')\n",
    "    print(data[data['ID']==id]['Nombre completo'])\n"
   ]
  },
  {
   "cell_type": "code",
   "execution_count": 3,
   "metadata": {},
   "outputs": [
    {
     "name": "stdin",
     "output_type": "stream",
     "text": [
      "Nombre: Alejandro\n",
      "Primer apellido: Sanchez\n",
      "Segundo apellido: Jimenez\n"
     ]
    },
    {
     "name": "stdout",
     "output_type": "stream",
     "text": [
      "3 expediente(s) con el nombre completo: SANCHEZ JIMENEZ , Alejandro\n",
      "3 expediente(s) con nombre + primer apellido + segundo apellido: Alejandro SANCHEZ JIMENEZ\n",
      "71 expediente(s) con nombre + primer apellido: Alejandro SANCHEZ XXXXXX\n",
      "31 expediente(s) con nombre + segundo apellido: Alejandro XXXXXX JIMENEZ\n",
      "120 expediente(s) con los mismos apellidos: XXXXXX SANCHEZ JIMENEZ\n"
     ]
    },
    {
     "name": "stderr",
     "output_type": "stream",
     "text": [
      "/home/jupyterlab/conda/envs/python/lib/python3.6/site-packages/ipykernel_launcher.py:17: UserWarning: Boolean Series key will be reindexed to match DataFrame index.\n",
      "/home/jupyterlab/conda/envs/python/lib/python3.6/site-packages/ipykernel_launcher.py:20: UserWarning: Boolean Series key will be reindexed to match DataFrame index.\n",
      "/home/jupyterlab/conda/envs/python/lib/python3.6/site-packages/ipykernel_launcher.py:23: UserWarning: Boolean Series key will be reindexed to match DataFrame index.\n",
      "/home/jupyterlab/conda/envs/python/lib/python3.6/site-packages/ipykernel_launcher.py:26: UserWarning: Boolean Series key will be reindexed to match DataFrame index.\n"
     ]
    },
    {
     "name": "stdout",
     "output_type": "stream",
     "text": [
      "Sumario 1151 Legajo 3891   \n",
      "111615        DURAN SANCHEZ, Segundo\n",
      "275506          MORALO GARCIA, Pedro\n",
      "282997        MUÑOZ CABALLERO, Angel\n",
      "285678          MUÑOZ SANCHEZ, Maria\n",
      "360285       RUBIO PIZARRO, Emiliano\n",
      "375516    SANCHEZ JIMENEZ, Alejandro\n",
      "375621        SANCHEZ JIMENEZ, Pedro\n",
      "384442      SANTOS SANCHEZ, Vivencio\n",
      "Name: Nombre completo, dtype: object\n",
      "Sumario 1329 Legajo 1051  Orden 9 Año 1952\n",
      "375515    SANCHEZ JIMENEZ, Alejandro\n",
      "Name: Nombre completo, dtype: object\n",
      "Sumario 861 Legajo 7619   \n",
      "99021         DEL CAMPO VALMORISMO, Virgilio\n",
      "207425    JIMENEZ SANCHEZ, Antonio Florencio\n",
      "219129                  LOPEZ BARRERO, Elias\n",
      "226237                LOPEZ RODRIGUEZ, Reyes\n",
      "371612               SANCHEZ BELMONTE, Pedro\n",
      "375309               SANCHEZ HERRERA, Gabino\n",
      "375517            SANCHEZ JIMENEZ, Alejandro\n",
      "375560                 SANCHEZ JIMENEZ, Galo\n",
      "378584             SANCHEZ RAMIRO, Anastasio\n",
      "402699                 TIZON SIERRA, Candido\n",
      "Name: Nombre completo, dtype: object\n"
     ]
    }
   ],
   "source": [
    "#Introducir Nombre y Apellidos de la persona a buscar\n",
    "nombre=input('Nombre:')\n",
    "apellido1=input('Primer apellido:').upper()\n",
    "apellido2=input('Segundo apellido:').upper()\n",
    "#Combinar nombre y apellidos con el mismo formato que el CSV. APELLIDO1 APELLIDO2, Nombre.\n",
    "ncomp=apellido1+' '+apellido2+', '+nombre\n",
    "#Crear masks para filtrar los resultados. Mask1: mismo nombre, Mask2: mismo primer apellido, Mask3: mismo segundo apellido, Mask4: mismo nombre completo.\n",
    "mask1=data['Nombre']==nombre\n",
    "mask2=data['Primer apellido']==apellido1\n",
    "mask3=data['Segundo apellido']==apellido2\n",
    "mask4=data['Nombre completo']==ncomp\n",
    "#Almacenar resultados de los filtros de interes en variables.\n",
    "#Nombre completo: APELLIDO1 APELLIDO2, Nombre.\n",
    "res_ncomp=data[mask4]\n",
    "print(res_ncomp.shape[0],'expediente(s) con el nombre completo:', apellido1, apellido2,',',nombre)\n",
    "#Nombre completo: Nombre, Apellido1 y Apellido2 son iguales a las 3 columnas.\n",
    "res_na1a2=data[mask1][mask2][mask3]\n",
    "print(res_na1a2.shape[0], 'expediente(s) con nombre + primer apellido + segundo apellido:', nombre, apellido1, apellido2)\n",
    "#Nombre y primer apellido\n",
    "res_na1=data[mask1][mask2]\n",
    "print(res_na1.shape[0], 'expediente(s) con nombre + primer apellido:', nombre, apellido1,'XXXXXX')\n",
    "#Nombre y segundo apellido\n",
    "res_na2=data[mask1][mask3]\n",
    "print(res_na2.shape[0], 'expediente(s) con nombre + segundo apellido:', nombre, 'XXXXXX', apellido2)\n",
    "#Apellidos\n",
    "res_a1a2=data[mask2][mask3]\n",
    "print(res_a1a2.shape[0], 'expediente(s) con los mismos apellidos:', 'XXXXXX', apellido1, apellido2)\n",
    "\n",
    "#\n",
    "i=0\n",
    "temp=pd.DataFrame(data=None)\n",
    "juicios1=pd.DataFrame(data=None)\n",
    "while i<res_ncomp.shape[0]:\n",
    "    temp=data[data['ID']==res_ncomp['ID'].iloc[i]]\n",
    "    juicios1=juicios1.append(temp)\n",
    "    #print(data[data['ID']==temp]['Nombre completo'])\n",
    "    i=i+1\n",
    "import numpy as np\n",
    "valores=np.unique(juicios1['ID'])\n",
    "\n",
    "for id in valores:\n",
    "    sumario=data[data['ID']==id]['Sumario'].values[0]\n",
    "    legajo=data[data['ID']==id]['Legajo'].values[0]\n",
    "    caja=data[data['ID']==id]['Caja'].values[0]\n",
    "    orden=data[data['ID']==id]['Orden'].values[0]\n",
    "    ano=data[data['ID']==id]['Año'].values[0]\n",
    "    print('Sumario %s' %sumario if sumario!=0 else '','Legajo %s' %legajo if legajo!=0 else '', 'Caja %s' %caja if caja!=0 else '','Orden %s' %orden if orden!=0 else '','Año %s' %ano if ano!=0 else '')\n",
    "    print(data[data['ID']==id]['Nombre completo'])\n",
    "    \n"
   ]
  },
  {
   "cell_type": "code",
   "execution_count": null,
   "metadata": {},
   "outputs": [],
   "source": [
    "#Obtener juicios de personas con los mismos Apellido1 y Apellido2\n",
    "i=0\n",
    "temp=pd.DataFrame(data=None)\n",
    "juicios2=pd.DataFrame(data=None)\n",
    "while i<res_a1a2.shape[0]:\n",
    "    temp=data[data['ID']==res_a1a2['ID'].iloc[i]]\n",
    "    juicios2=juicios2.append(temp)\n",
    "    #print(data[data['ID']==temp]['Nombre completo'])\n",
    "    i=i+1\n",
    "\n",
    "valores=np.unique(juicios2['ID'])\n",
    "\n",
    "for id in valores:\n",
    "    sumario=data[data['ID']==id]['Sumario'].values[0]\n",
    "    legajo=data[data['ID']==id]['Legajo'].values[0]\n",
    "    caja=data[data['ID']==id]['Caja'].values[0]\n",
    "    orden=data[data['ID']==id]['Orden'].values[0]\n",
    "    ano=data[data['ID']==id]['Año'].values[0]\n",
    "    print('Sumario %s' %sumario if sumario!=0 else '','Legajo %s' %legajo if legajo!=0 else '', 'Caja %s' %caja if caja!=0 else '','Orden %s' %orden if orden!=0 else '','Año %s' %ano if ano!=0 else '')\n",
    "    print(data[data['ID']==id]['Nombre completo'])"
   ]
  },
  {
   "cell_type": "code",
   "execution_count": null,
   "metadata": {},
   "outputs": [],
   "source": []
  }
 ],
 "metadata": {
  "kernelspec": {
   "display_name": "Python",
   "language": "python",
   "name": "conda-env-python-py"
  },
  "language_info": {
   "codemirror_mode": {
    "name": "ipython",
    "version": 3
   },
   "file_extension": ".py",
   "mimetype": "text/x-python",
   "name": "python",
   "nbconvert_exporter": "python",
   "pygments_lexer": "ipython3",
   "version": "3.6.12"
  }
 },
 "nbformat": 4,
 "nbformat_minor": 4
}
